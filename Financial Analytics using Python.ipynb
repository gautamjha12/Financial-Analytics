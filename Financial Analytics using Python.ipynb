{
 "cells": [
  {
   "cell_type": "code",
   "execution_count": 178,
   "id": "cbd6b9aa",
   "metadata": {},
   "outputs": [],
   "source": [
    "import numpy as np\n",
    "import matplotlib.pyplot as plt \n",
    "import pandas as pd\n",
    "import seaborn as sns\n",
    "color = sns.color_palette()\n",
    "import sklearn.metrics as metrics\n",
    "import imblearn\n",
    "import warnings\n",
    "warnings.filterwarnings(\"ignore\")"
   ]
  },
  {
   "cell_type": "code",
   "execution_count": 179,
   "id": "52074d73",
   "metadata": {},
   "outputs": [
    {
     "data": {
      "text/html": [
       "<div>\n",
       "<style scoped>\n",
       "    .dataframe tbody tr th:only-of-type {\n",
       "        vertical-align: middle;\n",
       "    }\n",
       "\n",
       "    .dataframe tbody tr th {\n",
       "        vertical-align: top;\n",
       "    }\n",
       "\n",
       "    .dataframe thead th {\n",
       "        text-align: right;\n",
       "    }\n",
       "</style>\n",
       "<table border=\"1\" class=\"dataframe\">\n",
       "  <thead>\n",
       "    <tr style=\"text-align: right;\">\n",
       "      <th></th>\n",
       "      <th>default</th>\n",
       "      <th>student</th>\n",
       "      <th>balance</th>\n",
       "      <th>income</th>\n",
       "    </tr>\n",
       "  </thead>\n",
       "  <tbody>\n",
       "    <tr>\n",
       "      <th>0</th>\n",
       "      <td>No</td>\n",
       "      <td>No</td>\n",
       "      <td>729.53</td>\n",
       "      <td>44361.63</td>\n",
       "    </tr>\n",
       "    <tr>\n",
       "      <th>1</th>\n",
       "      <td>No</td>\n",
       "      <td>Yes</td>\n",
       "      <td>817.18</td>\n",
       "      <td>12106.13</td>\n",
       "    </tr>\n",
       "    <tr>\n",
       "      <th>2</th>\n",
       "      <td>No</td>\n",
       "      <td>No</td>\n",
       "      <td>1073.55</td>\n",
       "      <td>31767.14</td>\n",
       "    </tr>\n",
       "    <tr>\n",
       "      <th>3</th>\n",
       "      <td>No</td>\n",
       "      <td>No</td>\n",
       "      <td>529.25</td>\n",
       "      <td>35704.49</td>\n",
       "    </tr>\n",
       "    <tr>\n",
       "      <th>4</th>\n",
       "      <td>No</td>\n",
       "      <td>No</td>\n",
       "      <td>785.66</td>\n",
       "      <td>38463.50</td>\n",
       "    </tr>\n",
       "  </tbody>\n",
       "</table>\n",
       "</div>"
      ],
      "text/plain": [
       "  default student  balance    income\n",
       "0      No      No   729.53  44361.63\n",
       "1      No     Yes   817.18  12106.13\n",
       "2      No      No  1073.55  31767.14\n",
       "3      No      No   529.25  35704.49\n",
       "4      No      No   785.66  38463.50"
      ]
     },
     "execution_count": 179,
     "metadata": {},
     "output_type": "execute_result"
    }
   ],
   "source": [
    "data = pd.read_csv(\"financial_data.csv\")\n",
    "data.head()"
   ]
  },
  {
   "cell_type": "code",
   "execution_count": 180,
   "id": "d300ab04",
   "metadata": {},
   "outputs": [
    {
     "data": {
      "text/plain": [
       "(10000, 4)"
      ]
     },
     "execution_count": 180,
     "metadata": {},
     "output_type": "execute_result"
    }
   ],
   "source": [
    "data.shape"
   ]
  },
  {
   "cell_type": "code",
   "execution_count": 181,
   "id": "ac55f826",
   "metadata": {},
   "outputs": [
    {
     "data": {
      "text/html": [
       "<div>\n",
       "<style scoped>\n",
       "    .dataframe tbody tr th:only-of-type {\n",
       "        vertical-align: middle;\n",
       "    }\n",
       "\n",
       "    .dataframe tbody tr th {\n",
       "        vertical-align: top;\n",
       "    }\n",
       "\n",
       "    .dataframe thead th {\n",
       "        text-align: right;\n",
       "    }\n",
       "</style>\n",
       "<table border=\"1\" class=\"dataframe\">\n",
       "  <thead>\n",
       "    <tr style=\"text-align: right;\">\n",
       "      <th></th>\n",
       "      <th>balance</th>\n",
       "      <th>income</th>\n",
       "    </tr>\n",
       "  </thead>\n",
       "  <tbody>\n",
       "    <tr>\n",
       "      <th>count</th>\n",
       "      <td>10000.000000</td>\n",
       "      <td>10000.000000</td>\n",
       "    </tr>\n",
       "    <tr>\n",
       "      <th>mean</th>\n",
       "      <td>835.374877</td>\n",
       "      <td>33516.981852</td>\n",
       "    </tr>\n",
       "    <tr>\n",
       "      <th>std</th>\n",
       "      <td>483.714957</td>\n",
       "      <td>13336.639582</td>\n",
       "    </tr>\n",
       "    <tr>\n",
       "      <th>min</th>\n",
       "      <td>0.000000</td>\n",
       "      <td>771.970000</td>\n",
       "    </tr>\n",
       "    <tr>\n",
       "      <th>25%</th>\n",
       "      <td>481.732500</td>\n",
       "      <td>21340.460000</td>\n",
       "    </tr>\n",
       "    <tr>\n",
       "      <th>50%</th>\n",
       "      <td>823.635000</td>\n",
       "      <td>34552.645000</td>\n",
       "    </tr>\n",
       "    <tr>\n",
       "      <th>75%</th>\n",
       "      <td>1166.305000</td>\n",
       "      <td>43807.730000</td>\n",
       "    </tr>\n",
       "    <tr>\n",
       "      <th>max</th>\n",
       "      <td>2654.320000</td>\n",
       "      <td>73554.230000</td>\n",
       "    </tr>\n",
       "  </tbody>\n",
       "</table>\n",
       "</div>"
      ],
      "text/plain": [
       "            balance        income\n",
       "count  10000.000000  10000.000000\n",
       "mean     835.374877  33516.981852\n",
       "std      483.714957  13336.639582\n",
       "min        0.000000    771.970000\n",
       "25%      481.732500  21340.460000\n",
       "50%      823.635000  34552.645000\n",
       "75%     1166.305000  43807.730000\n",
       "max     2654.320000  73554.230000"
      ]
     },
     "execution_count": 181,
     "metadata": {},
     "output_type": "execute_result"
    }
   ],
   "source": [
    "data.describe()"
   ]
  },
  {
   "cell_type": "markdown",
   "id": "5121703b",
   "metadata": {},
   "source": [
    "## Exploratory Data Analysis"
   ]
  },
  {
   "cell_type": "code",
   "execution_count": 182,
   "id": "465416fd",
   "metadata": {},
   "outputs": [
    {
     "data": {
      "image/png": "[encoded data removed]",
      "text/plain": [
       "<Figure size 1080x360 with 2 Axes>"
      ]
     },
     "metadata": {
      "needs_background": "light"
     },
     "output_type": "display_data"
    }
   ],
   "source": [
    "# Box plot to understand the spread of the data\n",
    "plt.figure(figsize = (15,5))\n",
    "plt.subplot(1,2,1)\n",
    "sns.boxplot(y= data['balance'])\n",
    "\n",
    "plt.subplot(1,2,2)\n",
    "sns.boxplot(y= data['income'])\n",
    "plt.show()"
   ]
  },
  {
   "cell_type": "code",
   "execution_count": 183,
   "id": "d851b111",
   "metadata": {},
   "outputs": [
    {
     "data": {
      "image/png": "[encoded data removed]",
      "text/plain": [
       "<Figure size 1440x360 with 2 Axes>"
      ]
     },
     "metadata": {
      "needs_background": "light"
     },
     "output_type": "display_data"
    }
   ],
   "source": [
    "# Countplot to analysze categorical columns\n",
    "plt.figure(figsize = (20,5))\n",
    "plt.subplot(1,2,1)\n",
    "sns.countplot(data['student'])\n",
    "\n",
    "plt.subplot(1,2,2)\n",
    "sns.countplot(data['default'])\n",
    "plt.show()"
   ]
  },
  {
   "cell_type": "code",
   "execution_count": 184,
   "id": "80b5873f",
   "metadata": {},
   "outputs": [
    {
     "data": {
      "text/plain": [
       "No     0.7056\n",
       "Yes    0.2944\n",
       "Name: student, dtype: float64"
      ]
     },
     "execution_count": 184,
     "metadata": {},
     "output_type": "execute_result"
    }
   ],
   "source": [
    "data['student'].value_counts(normalize = True)"
   ]
  },
  {
   "cell_type": "code",
   "execution_count": 185,
   "id": "914222b4",
   "metadata": {},
   "outputs": [
    {
     "data": {
      "text/plain": [
       "No     0.9667\n",
       "Yes    0.0333\n",
       "Name: default, dtype: float64"
      ]
     },
     "execution_count": 185,
     "metadata": {},
     "output_type": "execute_result"
    }
   ],
   "source": [
    "data['default'].value_counts(normalize = True)"
   ]
  },
  {
   "cell_type": "code",
   "execution_count": 186,
   "id": "2eb2a11c",
   "metadata": {},
   "outputs": [
    {
     "data": {
      "image/png": "[encoded data removed]",
      "text/plain": [
       "<Figure size 1440x360 with 2 Axes>"
      ]
     },
     "metadata": {
      "needs_background": "light"
     },
     "output_type": "display_data"
    }
   ],
   "source": [
    "plt.figure(figsize = (20,5))\n",
    "plt.subplot(1,2,1)\n",
    "sns.boxplot(data['default'], data['balance'])\n",
    "\n",
    "plt.subplot(1,2,2)\n",
    "sns.boxplot(data['default'], data['income'])\n",
    "plt.show()"
   ]
  },
  {
   "cell_type": "code",
   "execution_count": 187,
   "id": "b6d1fc2c",
   "metadata": {},
   "outputs": [
    {
     "data": {
      "text/html": [
       "<div>\n",
       "<style scoped>\n",
       "    .dataframe tbody tr th:only-of-type {\n",
       "        vertical-align: middle;\n",
       "    }\n",
       "\n",
       "    .dataframe tbody tr th {\n",
       "        vertical-align: top;\n",
       "    }\n",
       "\n",
       "    .dataframe thead th {\n",
       "        text-align: right;\n",
       "    }\n",
       "</style>\n",
       "<table border=\"1\" class=\"dataframe\">\n",
       "  <thead>\n",
       "    <tr style=\"text-align: right;\">\n",
       "      <th>default</th>\n",
       "      <th>No</th>\n",
       "      <th>Yes</th>\n",
       "    </tr>\n",
       "    <tr>\n",
       "      <th>student</th>\n",
       "      <th></th>\n",
       "      <th></th>\n",
       "    </tr>\n",
       "  </thead>\n",
       "  <tbody>\n",
       "    <tr>\n",
       "      <th>No</th>\n",
       "      <td>0.97</td>\n",
       "      <td>0.03</td>\n",
       "    </tr>\n",
       "    <tr>\n",
       "      <th>Yes</th>\n",
       "      <td>0.96</td>\n",
       "      <td>0.04</td>\n",
       "    </tr>\n",
       "  </tbody>\n",
       "</table>\n",
       "</div>"
      ],
      "text/plain": [
       "default    No   Yes\n",
       "student            \n",
       "No       0.97  0.03\n",
       "Yes      0.96  0.04"
      ]
     },
     "execution_count": 187,
     "metadata": {},
     "output_type": "execute_result"
    }
   ],
   "source": [
    "pd.crosstab(data['student'], data['default'], normalize = 'index').round(2)"
   ]
  },
  {
   "cell_type": "code",
   "execution_count": 188,
   "id": "8be76184",
   "metadata": {},
   "outputs": [
    {
     "data": {
      "text/plain": [
       "<AxesSubplot:>"
      ]
     },
     "execution_count": 188,
     "metadata": {},
     "output_type": "execute_result"
    },
    {
     "data": {
      "image/png": "[encoded data removed]",
      "text/plain": [
       "<Figure size 432x288 with 2 Axes>"
      ]
     },
     "metadata": {
      "needs_background": "light"
     },
     "output_type": "display_data"
    }
   ],
   "source": [
    "sns.heatmap(data[['balance', 'income']].corr(), annot = True)"
   ]
  },
  {
   "cell_type": "code",
   "execution_count": 189,
   "id": "c93c512f",
   "metadata": {},
   "outputs": [
    {
     "data": {
      "text/plain": [
       "default    0\n",
       "student    0\n",
       "balance    0\n",
       "income     0\n",
       "dtype: int64"
      ]
     },
     "execution_count": 189,
     "metadata": {},
     "output_type": "execute_result"
    }
   ],
   "source": [
    "data.isnull().sum()"
   ]
  },
  {
   "cell_type": "code",
   "execution_count": 190,
   "id": "1076ffd5",
   "metadata": {},
   "outputs": [],
   "source": [
    "Q1, Q3 = data['balance'].quantile([.25,.75])\n",
    "IQR = Q3 - Q1\n",
    "LL = Q1 - 1.5*(IQR)\n",
    "UL = Q3 + 1.5*(IQR)"
   ]
  },
  {
   "cell_type": "code",
   "execution_count": 191,
   "id": "32f0ace3",
   "metadata": {},
   "outputs": [
    {
     "data": {
      "text/plain": [
       "2193.16375"
      ]
     },
     "execution_count": 191,
     "metadata": {},
     "output_type": "execute_result"
    }
   ],
   "source": [
    "UL"
   ]
  },
  {
   "cell_type": "code",
   "execution_count": 192,
   "id": "cc3dada8",
   "metadata": {},
   "outputs": [
    {
     "data": {
      "text/html": [
       "<div>\n",
       "<style scoped>\n",
       "    .dataframe tbody tr th:only-of-type {\n",
       "        vertical-align: middle;\n",
       "    }\n",
       "\n",
       "    .dataframe tbody tr th {\n",
       "        vertical-align: top;\n",
       "    }\n",
       "\n",
       "    .dataframe thead th {\n",
       "        text-align: right;\n",
       "    }\n",
       "</style>\n",
       "<table border=\"1\" class=\"dataframe\">\n",
       "  <thead>\n",
       "    <tr style=\"text-align: right;\">\n",
       "      <th></th>\n",
       "      <th>default</th>\n",
       "      <th>student</th>\n",
       "      <th>balance</th>\n",
       "      <th>income</th>\n",
       "    </tr>\n",
       "  </thead>\n",
       "  <tbody>\n",
       "    <tr>\n",
       "      <th>173</th>\n",
       "      <td>Yes</td>\n",
       "      <td>Yes</td>\n",
       "      <td>2205.80</td>\n",
       "      <td>14271.49</td>\n",
       "    </tr>\n",
       "    <tr>\n",
       "      <th>1136</th>\n",
       "      <td>Yes</td>\n",
       "      <td>No</td>\n",
       "      <td>2499.02</td>\n",
       "      <td>51504.29</td>\n",
       "    </tr>\n",
       "    <tr>\n",
       "      <th>1160</th>\n",
       "      <td>Yes</td>\n",
       "      <td>Yes</td>\n",
       "      <td>2502.68</td>\n",
       "      <td>14947.52</td>\n",
       "    </tr>\n",
       "    <tr>\n",
       "      <th>1359</th>\n",
       "      <td>Yes</td>\n",
       "      <td>No</td>\n",
       "      <td>2220.97</td>\n",
       "      <td>40725.10</td>\n",
       "    </tr>\n",
       "    <tr>\n",
       "      <th>1502</th>\n",
       "      <td>Yes</td>\n",
       "      <td>Yes</td>\n",
       "      <td>2332.88</td>\n",
       "      <td>11770.23</td>\n",
       "    </tr>\n",
       "    <tr>\n",
       "      <th>1609</th>\n",
       "      <td>Yes</td>\n",
       "      <td>Yes</td>\n",
       "      <td>2269.95</td>\n",
       "      <td>18021.11</td>\n",
       "    </tr>\n",
       "    <tr>\n",
       "      <th>2096</th>\n",
       "      <td>Yes</td>\n",
       "      <td>Yes</td>\n",
       "      <td>2261.85</td>\n",
       "      <td>20030.17</td>\n",
       "    </tr>\n",
       "    <tr>\n",
       "      <th>2140</th>\n",
       "      <td>No</td>\n",
       "      <td>Yes</td>\n",
       "      <td>2308.89</td>\n",
       "      <td>19110.27</td>\n",
       "    </tr>\n",
       "    <tr>\n",
       "      <th>2929</th>\n",
       "      <td>Yes</td>\n",
       "      <td>Yes</td>\n",
       "      <td>2387.31</td>\n",
       "      <td>28296.91</td>\n",
       "    </tr>\n",
       "    <tr>\n",
       "      <th>3162</th>\n",
       "      <td>Yes</td>\n",
       "      <td>Yes</td>\n",
       "      <td>2415.32</td>\n",
       "      <td>17429.50</td>\n",
       "    </tr>\n",
       "    <tr>\n",
       "      <th>3189</th>\n",
       "      <td>Yes</td>\n",
       "      <td>No</td>\n",
       "      <td>2228.47</td>\n",
       "      <td>27438.35</td>\n",
       "    </tr>\n",
       "    <tr>\n",
       "      <th>3702</th>\n",
       "      <td>No</td>\n",
       "      <td>Yes</td>\n",
       "      <td>2370.46</td>\n",
       "      <td>24251.96</td>\n",
       "    </tr>\n",
       "    <tr>\n",
       "      <th>3855</th>\n",
       "      <td>Yes</td>\n",
       "      <td>Yes</td>\n",
       "      <td>2321.88</td>\n",
       "      <td>21331.31</td>\n",
       "    </tr>\n",
       "    <tr>\n",
       "      <th>3913</th>\n",
       "      <td>Yes</td>\n",
       "      <td>Yes</td>\n",
       "      <td>2334.12</td>\n",
       "      <td>19335.89</td>\n",
       "    </tr>\n",
       "    <tr>\n",
       "      <th>3976</th>\n",
       "      <td>No</td>\n",
       "      <td>Yes</td>\n",
       "      <td>2388.17</td>\n",
       "      <td>7832.14</td>\n",
       "    </tr>\n",
       "    <tr>\n",
       "      <th>4060</th>\n",
       "      <td>Yes</td>\n",
       "      <td>Yes</td>\n",
       "      <td>2216.02</td>\n",
       "      <td>20911.70</td>\n",
       "    </tr>\n",
       "    <tr>\n",
       "      <th>4231</th>\n",
       "      <td>Yes</td>\n",
       "      <td>Yes</td>\n",
       "      <td>2291.62</td>\n",
       "      <td>20837.21</td>\n",
       "    </tr>\n",
       "    <tr>\n",
       "      <th>4831</th>\n",
       "      <td>No</td>\n",
       "      <td>Yes</td>\n",
       "      <td>2216.33</td>\n",
       "      <td>24737.08</td>\n",
       "    </tr>\n",
       "    <tr>\n",
       "      <th>5461</th>\n",
       "      <td>Yes</td>\n",
       "      <td>Yes</td>\n",
       "      <td>2247.42</td>\n",
       "      <td>17926.72</td>\n",
       "    </tr>\n",
       "    <tr>\n",
       "      <th>6075</th>\n",
       "      <td>Yes</td>\n",
       "      <td>No</td>\n",
       "      <td>2413.32</td>\n",
       "      <td>38540.57</td>\n",
       "    </tr>\n",
       "    <tr>\n",
       "      <th>6334</th>\n",
       "      <td>Yes</td>\n",
       "      <td>No</td>\n",
       "      <td>2343.80</td>\n",
       "      <td>51095.29</td>\n",
       "    </tr>\n",
       "    <tr>\n",
       "      <th>6882</th>\n",
       "      <td>Yes</td>\n",
       "      <td>Yes</td>\n",
       "      <td>2287.17</td>\n",
       "      <td>18692.14</td>\n",
       "    </tr>\n",
       "    <tr>\n",
       "      <th>7437</th>\n",
       "      <td>Yes</td>\n",
       "      <td>Yes</td>\n",
       "      <td>2461.51</td>\n",
       "      <td>11878.56</td>\n",
       "    </tr>\n",
       "    <tr>\n",
       "      <th>7815</th>\n",
       "      <td>Yes</td>\n",
       "      <td>Yes</td>\n",
       "      <td>2578.47</td>\n",
       "      <td>25706.65</td>\n",
       "    </tr>\n",
       "    <tr>\n",
       "      <th>8264</th>\n",
       "      <td>Yes</td>\n",
       "      <td>No</td>\n",
       "      <td>2236.76</td>\n",
       "      <td>37113.88</td>\n",
       "    </tr>\n",
       "    <tr>\n",
       "      <th>8495</th>\n",
       "      <td>Yes</td>\n",
       "      <td>Yes</td>\n",
       "      <td>2654.32</td>\n",
       "      <td>21930.39</td>\n",
       "    </tr>\n",
       "    <tr>\n",
       "      <th>8832</th>\n",
       "      <td>Yes</td>\n",
       "      <td>Yes</td>\n",
       "      <td>2207.60</td>\n",
       "      <td>19780.76</td>\n",
       "    </tr>\n",
       "    <tr>\n",
       "      <th>8992</th>\n",
       "      <td>Yes</td>\n",
       "      <td>Yes</td>\n",
       "      <td>2352.05</td>\n",
       "      <td>24067.55</td>\n",
       "    </tr>\n",
       "    <tr>\n",
       "      <th>9873</th>\n",
       "      <td>No</td>\n",
       "      <td>No</td>\n",
       "      <td>2391.01</td>\n",
       "      <td>50302.91</td>\n",
       "    </tr>\n",
       "    <tr>\n",
       "      <th>9893</th>\n",
       "      <td>Yes</td>\n",
       "      <td>No</td>\n",
       "      <td>2288.41</td>\n",
       "      <td>52043.57</td>\n",
       "    </tr>\n",
       "    <tr>\n",
       "      <th>9978</th>\n",
       "      <td>Yes</td>\n",
       "      <td>No</td>\n",
       "      <td>2202.46</td>\n",
       "      <td>47287.26</td>\n",
       "    </tr>\n",
       "  </tbody>\n",
       "</table>\n",
       "</div>"
      ],
      "text/plain": [
       "     default student  balance    income\n",
       "173      Yes     Yes  2205.80  14271.49\n",
       "1136     Yes      No  2499.02  51504.29\n",
       "1160     Yes     Yes  2502.68  14947.52\n",
       "1359     Yes      No  2220.97  40725.10\n",
       "1502     Yes     Yes  2332.88  11770.23\n",
       "1609     Yes     Yes  2269.95  18021.11\n",
       "2096     Yes     Yes  2261.85  20030.17\n",
       "2140      No     Yes  2308.89  19110.27\n",
       "2929     Yes     Yes  2387.31  28296.91\n",
       "3162     Yes     Yes  2415.32  17429.50\n",
       "3189     Yes      No  2228.47  27438.35\n",
       "3702      No     Yes  2370.46  24251.96\n",
       "3855     Yes     Yes  2321.88  21331.31\n",
       "3913     Yes     Yes  2334.12  19335.89\n",
       "3976      No     Yes  2388.17   7832.14\n",
       "4060     Yes     Yes  2216.02  20911.70\n",
       "4231     Yes     Yes  2291.62  20837.21\n",
       "4831      No     Yes  2216.33  24737.08\n",
       "5461     Yes     Yes  2247.42  17926.72\n",
       "6075     Yes      No  2413.32  38540.57\n",
       "6334     Yes      No  2343.80  51095.29\n",
       "6882     Yes     Yes  2287.17  18692.14\n",
       "7437     Yes     Yes  2461.51  11878.56\n",
       "7815     Yes     Yes  2578.47  25706.65\n",
       "8264     Yes      No  2236.76  37113.88\n",
       "8495     Yes     Yes  2654.32  21930.39\n",
       "8832     Yes     Yes  2207.60  19780.76\n",
       "8992     Yes     Yes  2352.05  24067.55\n",
       "9873      No      No  2391.01  50302.91\n",
       "9893     Yes      No  2288.41  52043.57\n",
       "9978     Yes      No  2202.46  47287.26"
      ]
     },
     "execution_count": 192,
     "metadata": {},
     "output_type": "execute_result"
    }
   ],
   "source": [
    "df = data[data['balance'] > UL]\n",
    "df"
   ]
  },
  {
   "cell_type": "code",
   "execution_count": 193,
   "id": "41f0bcff",
   "metadata": {},
   "outputs": [
    {
     "data": {
      "text/plain": [
       "31"
      ]
     },
     "execution_count": 193,
     "metadata": {},
     "output_type": "execute_result"
    }
   ],
   "source": [
    "df['default'].count()"
   ]
  },
  {
   "cell_type": "code",
   "execution_count": 194,
   "id": "ab73e87c",
   "metadata": {},
   "outputs": [
    {
     "data": {
      "text/plain": [
       "Yes    0.83871\n",
       "No     0.16129\n",
       "Name: default, dtype: float64"
      ]
     },
     "execution_count": 194,
     "metadata": {},
     "output_type": "execute_result"
    }
   ],
   "source": [
    "df['default'].value_counts(normalize = True)"
   ]
  },
  {
   "cell_type": "code",
   "execution_count": 195,
   "id": "54581b4e",
   "metadata": {},
   "outputs": [
    {
     "data": {
      "text/plain": [
       "Yes    26\n",
       "No      5\n",
       "Name: default, dtype: int64"
      ]
     },
     "execution_count": 195,
     "metadata": {},
     "output_type": "execute_result"
    }
   ],
   "source": [
    "df['default'].value_counts()"
   ]
  },
  {
   "cell_type": "code",
   "execution_count": 196,
   "id": "695e65a6",
   "metadata": {},
   "outputs": [],
   "source": [
    "data['balance'] = np.where(data['balance'] > UL, UL, data['balance'])"
   ]
  },
  {
   "cell_type": "code",
   "execution_count": 197,
   "id": "6d458afb",
   "metadata": {},
   "outputs": [
    {
     "data": {
      "image/png": "[encoded data removed]",
      "text/plain": [
       "<Figure size 432x288 with 1 Axes>"
      ]
     },
     "metadata": {
      "needs_background": "light"
     },
     "output_type": "display_data"
    }
   ],
   "source": [
    "sns.boxplot(y = data['balance'])\n",
    "plt.show()"
   ]
  },
  {
   "cell_type": "code",
   "execution_count": 198,
   "id": "f7ab7ebd",
   "metadata": {},
   "outputs": [],
   "source": [
    "# preparing model\n",
    "\n",
    "data = pd.get_dummies(data, drop_first = True)"
   ]
  },
  {
   "cell_type": "code",
   "execution_count": 199,
   "id": "f41d7c7f",
   "metadata": {},
   "outputs": [],
   "source": [
    "data.columns = ['balance', 'income', 'default', 'student']"
   ]
  },
  {
   "cell_type": "code",
   "execution_count": 200,
   "id": "27ffc0f3",
   "metadata": {},
   "outputs": [
    {
     "data": {
      "text/html": [
       "<div>\n",
       "<style scoped>\n",
       "    .dataframe tbody tr th:only-of-type {\n",
       "        vertical-align: middle;\n",
       "    }\n",
       "\n",
       "    .dataframe tbody tr th {\n",
       "        vertical-align: top;\n",
       "    }\n",
       "\n",
       "    .dataframe thead th {\n",
       "        text-align: right;\n",
       "    }\n",
       "</style>\n",
       "<table border=\"1\" class=\"dataframe\">\n",
       "  <thead>\n",
       "    <tr style=\"text-align: right;\">\n",
       "      <th></th>\n",
       "      <th>balance</th>\n",
       "      <th>income</th>\n",
       "      <th>default</th>\n",
       "      <th>student</th>\n",
       "    </tr>\n",
       "  </thead>\n",
       "  <tbody>\n",
       "    <tr>\n",
       "      <th>0</th>\n",
       "      <td>729.53</td>\n",
       "      <td>44361.63</td>\n",
       "      <td>0</td>\n",
       "      <td>0</td>\n",
       "    </tr>\n",
       "    <tr>\n",
       "      <th>1</th>\n",
       "      <td>817.18</td>\n",
       "      <td>12106.13</td>\n",
       "      <td>0</td>\n",
       "      <td>1</td>\n",
       "    </tr>\n",
       "    <tr>\n",
       "      <th>2</th>\n",
       "      <td>1073.55</td>\n",
       "      <td>31767.14</td>\n",
       "      <td>0</td>\n",
       "      <td>0</td>\n",
       "    </tr>\n",
       "    <tr>\n",
       "      <th>3</th>\n",
       "      <td>529.25</td>\n",
       "      <td>35704.49</td>\n",
       "      <td>0</td>\n",
       "      <td>0</td>\n",
       "    </tr>\n",
       "    <tr>\n",
       "      <th>4</th>\n",
       "      <td>785.66</td>\n",
       "      <td>38463.50</td>\n",
       "      <td>0</td>\n",
       "      <td>0</td>\n",
       "    </tr>\n",
       "    <tr>\n",
       "      <th>...</th>\n",
       "      <td>...</td>\n",
       "      <td>...</td>\n",
       "      <td>...</td>\n",
       "      <td>...</td>\n",
       "    </tr>\n",
       "    <tr>\n",
       "      <th>9995</th>\n",
       "      <td>711.56</td>\n",
       "      <td>52992.38</td>\n",
       "      <td>0</td>\n",
       "      <td>0</td>\n",
       "    </tr>\n",
       "    <tr>\n",
       "      <th>9996</th>\n",
       "      <td>757.96</td>\n",
       "      <td>19660.72</td>\n",
       "      <td>0</td>\n",
       "      <td>0</td>\n",
       "    </tr>\n",
       "    <tr>\n",
       "      <th>9997</th>\n",
       "      <td>845.41</td>\n",
       "      <td>58636.16</td>\n",
       "      <td>0</td>\n",
       "      <td>0</td>\n",
       "    </tr>\n",
       "    <tr>\n",
       "      <th>9998</th>\n",
       "      <td>1569.01</td>\n",
       "      <td>36669.11</td>\n",
       "      <td>0</td>\n",
       "      <td>0</td>\n",
       "    </tr>\n",
       "    <tr>\n",
       "      <th>9999</th>\n",
       "      <td>200.92</td>\n",
       "      <td>16862.95</td>\n",
       "      <td>0</td>\n",
       "      <td>1</td>\n",
       "    </tr>\n",
       "  </tbody>\n",
       "</table>\n",
       "<p>10000 rows × 4 columns</p>\n",
       "</div>"
      ],
      "text/plain": [
       "      balance    income  default  student\n",
       "0      729.53  44361.63        0        0\n",
       "1      817.18  12106.13        0        1\n",
       "2     1073.55  31767.14        0        0\n",
       "3      529.25  35704.49        0        0\n",
       "4      785.66  38463.50        0        0\n",
       "...       ...       ...      ...      ...\n",
       "9995   711.56  52992.38        0        0\n",
       "9996   757.96  19660.72        0        0\n",
       "9997   845.41  58636.16        0        0\n",
       "9998  1569.01  36669.11        0        0\n",
       "9999   200.92  16862.95        0        1\n",
       "\n",
       "[10000 rows x 4 columns]"
      ]
     },
     "execution_count": 200,
     "metadata": {},
     "output_type": "execute_result"
    }
   ],
   "source": [
    "data"
   ]
  },
  {
   "cell_type": "code",
   "execution_count": 201,
   "id": "83b40af8",
   "metadata": {},
   "outputs": [],
   "source": [
    "# training and testing dataset\n",
    "\n",
    "from sklearn.model_selection import train_test_split\n",
    "\n",
    "# X is independant variable\n",
    "X = data.drop('default', axis=1)\n",
    "\n",
    "#y is dependant variable is default\n",
    "y = data['default']"
   ]
  },
  {
   "cell_type": "code",
   "execution_count": 202,
   "id": "027a1d82",
   "metadata": {},
   "outputs": [],
   "source": [
    "#stratified testing as to split values of y eaually in train and test data\n",
    "X_train, X_test, y_train , y_test = train_test_split(X, y, test_size = 0.3, random_state = 21, stratify = y)"
   ]
  },
  {
   "cell_type": "code",
   "execution_count": 203,
   "id": "cd15a125",
   "metadata": {},
   "outputs": [
    {
     "name": "stdout",
     "output_type": "stream",
     "text": [
      "(7000, 3)\n",
      "(3000, 3)\n"
     ]
    }
   ],
   "source": [
    "print(X_train.shape)\n",
    "print(X_test.shape)"
   ]
  },
  {
   "cell_type": "code",
   "execution_count": 204,
   "id": "e3a88a2a",
   "metadata": {},
   "outputs": [
    {
     "name": "stdout",
     "output_type": "stream",
     "text": [
      "0    0.97\n",
      "1    0.03\n",
      "Name: default, dtype: float64\n",
      "0    0.97\n",
      "1    0.03\n",
      "Name: default, dtype: float64\n"
     ]
    }
   ],
   "source": [
    "print(y_train.value_counts(normalize = True).round(2))\n",
    "print(y_test.value_counts(normalize = True).round(2))\n"
   ]
  },
  {
   "cell_type": "code",
   "execution_count": 205,
   "id": "a90c50bc",
   "metadata": {},
   "outputs": [],
   "source": [
    "# SMOTE is used for oversampling\n",
    "# the ratio of deafault is 4:3 (non default: default)\n",
    "\n",
    "from imblearn.over_sampling import SMOTE \n",
    "sm = SMOTE(random_state=33, sampling_strategy = 0.75)\n",
    "X_res, y_res = sm.fit_resample(X_train, y_train)\n"
   ]
  },
  {
   "cell_type": "code",
   "execution_count": 206,
   "id": "18e72e74",
   "metadata": {},
   "outputs": [],
   "source": [
    "# Logistic Regression Model\n",
    "\n",
    "from sklearn.linear_model import LogisticRegression"
   ]
  },
  {
   "cell_type": "code",
   "execution_count": 207,
   "id": "9a905d33",
   "metadata": {},
   "outputs": [],
   "source": [
    "lr = LogisticRegression()"
   ]
  },
  {
   "cell_type": "code",
   "execution_count": 208,
   "id": "578329ea",
   "metadata": {},
   "outputs": [
    {
     "data": {
      "text/plain": [
       "LogisticRegression()"
      ]
     },
     "execution_count": 208,
     "metadata": {},
     "output_type": "execute_result"
    }
   ],
   "source": [
    "lr.fit(X_res,y_res)"
   ]
  },
  {
   "cell_type": "code",
   "execution_count": 209,
   "id": "2ed779f4",
   "metadata": {},
   "outputs": [],
   "source": [
    "y_pred=lr.predict(X_test)"
   ]
  },
  {
   "cell_type": "code",
   "execution_count": 210,
   "id": "39ce206b",
   "metadata": {},
   "outputs": [
    {
     "data": {
      "text/plain": [
       "array([[2589,  311],\n",
       "       [  25,   75]], dtype=int64)"
      ]
     },
     "execution_count": 210,
     "metadata": {},
     "output_type": "execute_result"
    }
   ],
   "source": [
    "from sklearn.metrics import confusion_matrix\n",
    "confusion_matrix(y_test, y_pred )"
   ]
  },
  {
   "cell_type": "code",
   "execution_count": 211,
   "id": "20367406",
   "metadata": {},
   "outputs": [],
   "source": [
    "accuracy = (2589 + 75) / (2589 + 75 + 25 + 311) *100"
   ]
  },
  {
   "cell_type": "code",
   "execution_count": 212,
   "id": "35c5b24d",
   "metadata": {},
   "outputs": [
    {
     "data": {
      "text/plain": [
       "88.8"
      ]
     },
     "execution_count": 212,
     "metadata": {},
     "output_type": "execute_result"
    }
   ],
   "source": [
    "accuracy"
   ]
  }
 ],
 "metadata": {
  "kernelspec": {
   "display_name": "Python 3 (ipykernel)",
   "language": "python",
   "name": "python3"
  },
  "language_info": {
   "codemirror_mode": {
    "name": "ipython",
    "version": 3
   },
   "file_extension": ".py",
   "mimetype": "text/x-python",
   "name": "python",
   "nbconvert_exporter": "python",
   "pygments_lexer": "ipython3",
   "version": "3.9.12"
  }
 },
 "nbformat": 4,
 "nbformat_minor": 5
}
